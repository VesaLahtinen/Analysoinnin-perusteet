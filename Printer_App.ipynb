{
 "cells": [
  {
   "cell_type": "code",
   "execution_count": 1,
   "metadata": {},
   "outputs": [
    {
     "name": "stdout",
     "output_type": "stream",
     "text": [
      "Printer App\n",
      "This app is made by  Vesa\n",
      "the value of number 1 is  5\n",
      "The value of number 2 is  3\n",
      "5 * 3 = 15\n",
      "5 + 3 = 8\n",
      "5 - 3 = 2\n",
      "5 / 3 = 1.6666666666666667\n"
     ]
    }
   ],
   "source": [
    "creator = \"Vesa\"\n",
    "number1 = 5\n",
    "number2 = 3\n",
    "multiplication = number1 * number2\n",
    "addition = number1 + number2\n",
    "substraction = number1 - number2\n",
    "division = number1 / number2\n",
    "\n",
    "print (\"Printer App\")\n",
    "print (\"This app is made by \", creator)\n",
    "print (\"the value of number 1 is \", number1)\n",
    "print (\"The value of number 2 is \", number2)\n",
    "print (number1, \"*\", number2, \"=\", multiplication)\n",
    "print (number1, \"+\", number2, \"=\", addition)\n",
    "print (number1, \"-\", number2, \"=\", substraction)\n",
    "print (number1, \"/\", number2, \"=\", division)"
   ]
  }
 ],
 "metadata": {
  "kernelspec": {
   "display_name": "Python 3",
   "language": "python",
   "name": "python3"
  },
  "language_info": {
   "codemirror_mode": {
    "name": "ipython",
    "version": 3
   },
   "file_extension": ".py",
   "mimetype": "text/x-python",
   "name": "python",
   "nbconvert_exporter": "python",
   "pygments_lexer": "ipython3",
   "version": "3.13.0"
  }
 },
 "nbformat": 4,
 "nbformat_minor": 2
}
