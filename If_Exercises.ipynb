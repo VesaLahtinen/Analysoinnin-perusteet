{
 "cells": [
  {
   "cell_type": "code",
   "execution_count": 2,
   "metadata": {},
   "outputs": [
    {
     "name": "stdout",
     "output_type": "stream",
     "text": [
      "Numbers 1 and 2 are equal\n",
      "Numbers 2 and 3 are equal\n",
      "Number 1 is greater or equal to number2\n",
      "All numbers are equal\n"
     ]
    }
   ],
   "source": [
    "num1 = 3\n",
    "num2 = 3\n",
    "num3 = 3\n",
    "\n",
    "if num1 == num2:\n",
    "    print(\"Numbers 1 and 2 are equal\")\n",
    "elif num1 == num3:\n",
    "    print(\"Number 1 and Number 3 are equal\")\n",
    "if num2 == num3:\n",
    "    print (\"Numbers 2 and 3 are equal\")    \n",
    "if num1 >= num2:\n",
    "    print(\"Number 1 is greater or equal to number2\")    \n",
    "if num1 > num2:\n",
    "    print(\"Number 1 is greater than number 2\")\n",
    "elif num2 > num3:\n",
    "    print(\"Number 2 is greater than number 3\")\n",
    "if num1 < num2:\n",
    "    print(\"Number 1 is less than number 2\")\n",
    "if num1 != num2:\n",
    "    print(\"Numbers are not equal\")\n",
    "if num1 > num2 & num1 > num3:\n",
    "    print (\"Number 1 is greater than numbers 2 and 3\")\n",
    "if num1 == num2 & num2 == num3:    \n",
    "    print(\"All numbers are equal\")"
   ]
  },
  {
   "cell_type": "code",
   "execution_count": 1,
   "metadata": {},
   "outputs": [
    {
     "name": "stdout",
     "output_type": "stream",
     "text": [
      "Names 1 & 3 are equal\n",
      "Names 1 & 2 are not equal\n"
     ]
    }
   ],
   "source": [
    "name1 = \"Mikael\"\n",
    "name2 = \"Vesa\"\n",
    "name3 = \"Mikael\"\n",
    "\n",
    "if name1 == name2:\n",
    "    print(\"Names 1 & 2 are equal\")\n",
    "elif name1 == name3:\n",
    "    print(\"Names 1 & 3 are equal\")    \n",
    "if name1 != name2:\n",
    "    print(\"Names 1 & 2 are not equal\")    "
   ]
  }
 ],
 "metadata": {
  "kernelspec": {
   "display_name": "Python 3",
   "language": "python",
   "name": "python3"
  },
  "language_info": {
   "codemirror_mode": {
    "name": "ipython",
    "version": 3
   },
   "file_extension": ".py",
   "mimetype": "text/x-python",
   "name": "python",
   "nbconvert_exporter": "python",
   "pygments_lexer": "ipython3",
   "version": "3.13.0"
  }
 },
 "nbformat": 4,
 "nbformat_minor": 2
}
