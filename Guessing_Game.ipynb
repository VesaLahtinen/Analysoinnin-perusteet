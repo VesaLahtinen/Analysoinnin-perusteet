{
 "cells": [
  {
   "cell_type": "code",
   "execution_count": 4,
   "metadata": {},
   "outputs": [
    {
     "name": "stdout",
     "output_type": "stream",
     "text": [
      "Correct!\n",
      "Guesses: 3\n"
     ]
    }
   ],
   "source": [
    "rightName = \"Vesa\"\n",
    "arvaukset = 1\n",
    "\n",
    "\n",
    "vastaus = input(\"Let's play a game, try to guess my name!\")\n",
    "\n",
    "while vastaus != rightName:\n",
    "    luovutus = input (\"Wrong, do you want to quit? (y/n)\")\n",
    "    if luovutus == \"y\":\n",
    "        print(\"As you wish..\")\n",
    "        print(\"Guesses:\", arvaukset)\n",
    "        break\n",
    "    arvaukset += 1\n",
    "    vastaus = input(\"Wrong, guess again!\")\n",
    "\n",
    "\n",
    "if vastaus == rightName:\n",
    "    print(\"Correct!\")\n",
    "    print(\"Guesses:\", arvaukset)\n"
   ]
  }
 ],
 "metadata": {
  "kernelspec": {
   "display_name": "Python 3",
   "language": "python",
   "name": "python3"
  },
  "language_info": {
   "codemirror_mode": {
    "name": "ipython",
    "version": 3
   },
   "file_extension": ".py",
   "mimetype": "text/x-python",
   "name": "python",
   "nbconvert_exporter": "python",
   "pygments_lexer": "ipython3",
   "version": "3.13.0"
  }
 },
 "nbformat": 4,
 "nbformat_minor": 2
}
