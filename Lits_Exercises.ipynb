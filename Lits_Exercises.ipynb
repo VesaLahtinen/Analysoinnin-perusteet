{
 "cells": [
  {
   "cell_type": "code",
   "execution_count": 3,
   "metadata": {},
   "outputs": [
    {
     "name": "stdout",
     "output_type": "stream",
     "text": [
      "table chair\n",
      "['table', 'chair', 'shelf']\n",
      "sofa\n",
      "['table', 'chair', 'shelf', 'sofa']\n"
     ]
    }
   ],
   "source": [
    "#Exercise 1\n",
    "\n",
    "lista = [\"table\", \"chair\", \"shelf\"]\n",
    "print (lista[0], lista[1])\n",
    "print (lista)\n",
    "lista.append('sofa')\n",
    "if 'sofa' in lista:\n",
    "    print('sofa')\n",
    "print (lista)"
   ]
  },
  {
   "cell_type": "code",
   "execution_count": 2,
   "metadata": {},
   "outputs": [
    {
     "name": "stdout",
     "output_type": "stream",
     "text": [
      "[2, 5, 1, 2, 5]\n",
      "15\n",
      "5\n"
     ]
    }
   ],
   "source": [
    "\n",
    "#Exercise 2\n",
    "\n",
    "import random\n",
    "\n",
    "thrownDiceNumbers = []\n",
    "for _ in range(5):\n",
    "    number=random.randint(1, 6)\n",
    "    thrownDiceNumbers.append(number)\n",
    "print (thrownDiceNumbers)\n",
    "\n",
    "print (sum(thrownDiceNumbers))\n",
    "print(max(thrownDiceNumbers))\n"
   ]
  },
  {
   "cell_type": "code",
   "execution_count": 1,
   "metadata": {},
   "outputs": [
    {
     "name": "stdout",
     "output_type": "stream",
     "text": [
      "[19, 3, 12, 14, 1]\n"
     ]
    }
   ],
   "source": [
    "\n",
    "#Exercise 3 (EXTRA)\n",
    "\n",
    "import random\n",
    "\n",
    "numerot = []\n",
    "\n",
    "while len(numerot) < 5:\n",
    "    r=random.randint(1, 20)\n",
    "    if r not in numerot:\n",
    "            numerot.append(r)\n",
    "print(numerot)"
   ]
  }
 ],
 "metadata": {
  "kernelspec": {
   "display_name": "Python 3",
   "language": "python",
   "name": "python3"
  },
  "language_info": {
   "codemirror_mode": {
    "name": "ipython",
    "version": 3
   },
   "file_extension": ".py",
   "mimetype": "text/x-python",
   "name": "python",
   "nbconvert_exporter": "python",
   "pygments_lexer": "ipython3",
   "version": "3.13.0"
  }
 },
 "nbformat": 4,
 "nbformat_minor": 2
}
